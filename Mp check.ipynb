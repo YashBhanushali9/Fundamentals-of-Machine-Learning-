{
  "nbformat": 4,
  "nbformat_minor": 0,
  "metadata": {
    "colab": {
      "provenance": [],
      "collapsed_sections": [],
      "authorship_tag": "ABX9TyNDvbt5nV7ZijTHxp4/Iu9z",
      "include_colab_link": true
    },
    "kernelspec": {
      "name": "python3",
      "display_name": "Python 3"
    },
    "language_info": {
      "name": "python"
    }
  },
  "cells": [
    {
      "cell_type": "markdown",
      "metadata": {
        "id": "view-in-github",
        "colab_type": "text"
      },
      "source": [
        "<a href=\"https://colab.research.google.com/github/YashBhanushali9/Fundamentals-of-Machine-Learning-/blob/main/Mp%20check.ipynb\" target=\"_parent\"><img src=\"https://colab.research.google.com/assets/colab-badge.svg\" alt=\"Open In Colab\"/></a>"
      ]
    },
    {
      "cell_type": "code",
      "execution_count": null,
      "metadata": {
        "id": "7bNfaIgSHNy1"
      },
      "outputs": [],
      "source": []
    },
    {
      "cell_type": "markdown",
      "source": [
        "# Importing the data and taking only 10,000 most frequently words from the total words of 85,000.\n"
      ],
      "metadata": {
        "id": "iRQrmkB-HUf1"
      }
    },
    {
      "cell_type": "code",
      "source": [
        "from keras.datasets import imdb\n",
        "\n",
        "(train_data, train_labels), (test_data, test_labels) = imdb.load_data(num_words=10000)\n"
      ],
      "metadata": {
        "colab": {
          "base_uri": "https://localhost:8080/"
        },
        "id": "BtkET5p5HZh-",
        "outputId": "15703a4a-b8e8-43d4-cf9b-33c2695d78bb"
      },
      "execution_count": 1,
      "outputs": [
        {
          "output_type": "stream",
          "name": "stdout",
          "text": [
            "Downloading data from https://storage.googleapis.com/tensorflow/tf-keras-datasets/imdb.npz\n",
            "17465344/17464789 [==============================] - 0s 0us/step\n",
            "17473536/17464789 [==============================] - 0s 0us/step\n"
          ]
        }
      ]
    },
    {
      "cell_type": "markdown",
      "source": [
        "The variables train_data and test_data are lists of reviews, each review being a list of word indices (encoding a sequence of words). train_labels and test_labels are lists of 0s and 1s, where 0 stands for \"negative\" and 1 stands for \"positive\":"
      ],
      "metadata": {
        "id": "PhXN5EjKHnZt"
      }
    },
    {
      "cell_type": "markdown",
      "source": [
        "# Let's see one of the reviews from training data which is in the form of an array of digits."
      ],
      "metadata": {
        "id": "07yrza6DHtDJ"
      }
    },
    {
      "cell_type": "code",
      "source": [
        "train_data[786]"
      ],
      "metadata": {
        "colab": {
          "base_uri": "https://localhost:8080/"
        },
        "id": "_VdaqjcuH2e2",
        "outputId": "5196a10c-0204-465d-ccb7-aaea1b5f5e58"
      },
      "execution_count": 2,
      "outputs": [
        {
          "output_type": "execute_result",
          "data": {
            "text/plain": [
              "[1,\n",
              " 76,\n",
              " 17,\n",
              " 75,\n",
              " 32,\n",
              " 119,\n",
              " 1540,\n",
              " 2792,\n",
              " 12,\n",
              " 16,\n",
              " 1350,\n",
              " 8,\n",
              " 67,\n",
              " 90,\n",
              " 11,\n",
              " 14,\n",
              " 20,\n",
              " 6,\n",
              " 5813,\n",
              " 5619,\n",
              " 33,\n",
              " 4,\n",
              " 2,\n",
              " 277,\n",
              " 7,\n",
              " 51,\n",
              " 186,\n",
              " 8,\n",
              " 28,\n",
              " 280,\n",
              " 77,\n",
              " 6,\n",
              " 9133,\n",
              " 5,\n",
              " 8161,\n",
              " 611,\n",
              " 2792,\n",
              " 299,\n",
              " 27,\n",
              " 173,\n",
              " 267,\n",
              " 40,\n",
              " 35,\n",
              " 2,\n",
              " 1445,\n",
              " 5,\n",
              " 2,\n",
              " 316,\n",
              " 19,\n",
              " 6,\n",
              " 484,\n",
              " 6514,\n",
              " 5,\n",
              " 5562,\n",
              " 2929,\n",
              " 1191,\n",
              " 10,\n",
              " 10,\n",
              " 4,\n",
              " 114,\n",
              " 2,\n",
              " 46,\n",
              " 14,\n",
              " 96,\n",
              " 5,\n",
              " 15,\n",
              " 19,\n",
              " 38,\n",
              " 111,\n",
              " 1888,\n",
              " 630,\n",
              " 5,\n",
              " 2,\n",
              " 15,\n",
              " 4,\n",
              " 330,\n",
              " 2,\n",
              " 5,\n",
              " 95,\n",
              " 2,\n",
              " 10,\n",
              " 10,\n",
              " 2508,\n",
              " 5558,\n",
              " 9,\n",
              " 50,\n",
              " 24,\n",
              " 399,\n",
              " 76,\n",
              " 41,\n",
              " 139,\n",
              " 19,\n",
              " 2792,\n",
              " 26,\n",
              " 1035,\n",
              " 5,\n",
              " 2631,\n",
              " 254,\n",
              " 8,\n",
              " 264,\n",
              " 36,\n",
              " 981,\n",
              " 6,\n",
              " 176,\n",
              " 8,\n",
              " 257,\n",
              " 85,\n",
              " 225,\n",
              " 57,\n",
              " 1708,\n",
              " 50,\n",
              " 10,\n",
              " 10,\n",
              " 3384,\n",
              " 2,\n",
              " 23,\n",
              " 4,\n",
              " 85,\n",
              " 508,\n",
              " 3990,\n",
              " 56,\n",
              " 4,\n",
              " 268,\n",
              " 59,\n",
              " 16,\n",
              " 5318,\n",
              " 5,\n",
              " 41,\n",
              " 139,\n",
              " 19,\n",
              " 2792,\n",
              " 71,\n",
              " 34,\n",
              " 230,\n",
              " 4,\n",
              " 91,\n",
              " 221,\n",
              " 11,\n",
              " 4,\n",
              " 20,\n",
              " 21,\n",
              " 24,\n",
              " 195,\n",
              " 8,\n",
              " 607,\n",
              " 1540,\n",
              " 39,\n",
              " 4467]"
            ]
          },
          "metadata": {},
          "execution_count": 2
        }
      ]
    },
    {
      "cell_type": "markdown",
      "source": [
        "# Let's see the label of the above review."
      ],
      "metadata": {
        "id": "KmmA8vzDIArY"
      }
    },
    {
      "cell_type": "code",
      "source": [
        "train_labels[786]\n"
      ],
      "metadata": {
        "colab": {
          "base_uri": "https://localhost:8080/"
        },
        "id": "xBUq8pqOIBu3",
        "outputId": "bd02ac5e-f562-4a46-a757-715c0739b045"
      },
      "execution_count": 3,
      "outputs": [
        {
          "output_type": "execute_result",
          "data": {
            "text/plain": [
              "0"
            ]
          },
          "metadata": {},
          "execution_count": 3
        }
      ]
    },
    {
      "cell_type": "markdown",
      "source": [
        "# So, this is a Negative review as it is labeled as 0."
      ],
      "metadata": {
        "id": "WpxhvdCgIIgb"
      }
    },
    {
      "cell_type": "markdown",
      "source": [],
      "metadata": {
        "id": "hjxq8LraINA_"
      }
    }
  ]
}